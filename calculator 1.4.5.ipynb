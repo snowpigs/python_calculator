{
 "cells": [
  {
   "cell_type": "code",
   "execution_count": null,
   "metadata": {
    "scrolled": true
   },
   "outputs": [],
   "source": [
    "import time\n",
    "\n",
    "def calculator():\n",
    "    try:\n",
    "        num1 = float(input(\"Input a number: \"))\n",
    "        time.sleep(0.5)\n",
    "        un = str(input(\"Input a operation \\n addition = + \\n subtraction = - \\n division = / \\n multiplication = * \\n\"))\n",
    "        time.sleep(0.5)\n",
    "        num2 = float(input(\"input a number: \"))\n",
    "        time.sleep(0.5)\n",
    "        if un == (\"+\"):\n",
    "            num3 = num1 + num2\n",
    "            print(\"\\n\", num1, \"+\", num2, \"= \", num3)\n",
    "        elif un == (\"-\"):\n",
    "            num3 = num1 - num2\n",
    "            print(\"\\n\", num1, \"-\", num2, \"= \", num3)\n",
    "        elif un == (\"*\"):\n",
    "            num3 = num1*num2\n",
    "            print(\"\\n\", num1, \"x\", num2, \"= \", num3)\n",
    "        elif un == (\"/\"):\n",
    "            mum3 = num1/num2\n",
    "            print(\"\\n\", num1, \"÷\", num2, \"= \", num3)\n",
    "        else:\n",
    "            print(\"That is not an operation\\nStarting over\\n-------------------\")\n",
    "            time.sleep(1)\n",
    "            calculate()\n",
    "    except: \n",
    "        print(\"that is not a proper input\")\n",
    "        calculator()\n",
    "\n",
    "def tryagain():\n",
    "    num5 = 0\n",
    "    again = str(input(\"Do you calculate more Y = yes N = no \"))\n",
    "    if again == (\"Y\") or again == (\"y\"):\n",
    "        un2 = str(input(\"What is your next operation: \"))\n",
    "        num4 = float(input(\"what is your next number: \"))\n",
    "        if un2 == (\"+\"):\n",
    "            num5 = num3 + num4\n",
    "            print(\"\\n\", num3, \"+\", num4, \"= \", num5)\n",
    "            num3 = num5\n",
    "            tryagain()\n",
    "        elif un2 == (\"-\"):\n",
    "            num5 = num3 - num4\n",
    "            print(\"\\n\", num3, \"-\", num4, \"= \", num5)\n",
    "            num3 = num5\n",
    "            tryagain()\n",
    "        elif un2 == (\"*\"):\n",
    "            num5 = num3*num4\n",
    "            print(\"\\n\", num3, \"x\", num4, \"= \", num5)\n",
    "            num3 = num5\n",
    "            tryagain()\n",
    "        elif un2 == (\"/\"):\n",
    "            num5 = num3/num4\n",
    "            print(\"\\n\", num3, \"÷\", num4, \"= \", num5)\n",
    "            num3 = num5\n",
    "            tryagain()\n",
    "    elif again == (\"N\") or again == (\"n\"):\n",
    "        print(\"OK\")\n",
    "    else:\n",
    "        print(\"Not a correct response\")\n",
    "        tryagain()"
   ]
  },
  {
   "cell_type": "code",
   "execution_count": null,
   "metadata": {},
   "outputs": [],
   "source": []
  },
  {
   "cell_type": "code",
   "execution_count": null,
   "metadata": {},
   "outputs": [],
   "source": []
  },
  {
   "cell_type": "code",
   "execution_count": null,
   "metadata": {},
   "outputs": [],
   "source": [
    "calculator()\n",
    "tryagain()"
   ]
  },
  {
   "cell_type": "code",
   "execution_count": 1,
   "metadata": {},
   "outputs": [
    {
     "name": "stdout",
     "output_type": "stream",
     "text": [
      "4.76 µs ± 900 ns per loop (mean ± std. dev. of 7 runs, 100000 loops each)\n"
     ]
    }
   ],
   "source": [
    "%timeit sum(range(100))"
   ]
  },
  {
   "cell_type": "code",
   "execution_count": 4,
   "metadata": {},
   "outputs": [],
   "source": [
    "import numpy as np\n"
   ]
  },
  {
   "cell_type": "code",
   "execution_count": null,
   "metadata": {},
   "outputs": [],
   "source": []
  }
 ],
 "metadata": {
  "kernelspec": {
   "display_name": "Python 3",
   "language": "python",
   "name": "python3"
  },
  "language_info": {
   "codemirror_mode": {
    "name": "ipython",
    "version": 3
   },
   "file_extension": ".py",
   "mimetype": "text/x-python",
   "name": "python",
   "nbconvert_exporter": "python",
   "pygments_lexer": "ipython3",
   "version": "3.6.5"
  }
 },
 "nbformat": 4,
 "nbformat_minor": 2
}
